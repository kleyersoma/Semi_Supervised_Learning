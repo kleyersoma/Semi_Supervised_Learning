{
 "cells": [
  {
   "cell_type": "markdown",
   "metadata": {},
   "source": [
    "<h1>Advanced Semi-supervised Classification</h1>\n",
    "<br>\n",
    "<br>\n",
    "<div>\n",
    "    <img src='images/assl.jpg'>\n",
    "</div>\n",
    "<br>\n",
    "<br>\n",
    "Let's get deeper into more semi-supervised classification algorithms, now we are going to learn about Advanced Semi-supervised learning algorithms that are able to solve complex problems where simpler algorithms , these advanced algorithms are:\n",
    "<ul>\n",
    "    <li>Contrastive Pessimistic Likelihood Estimation (CPLE).</li>\n",
    "    <li>Semi-Supervised Support Vector Machines (S3VM).</li>\n",
    "    <li>Transductive Support Vector Machines (TSVM).</li>\n",
    "</ul>\n",
    "<br>\n",
    "Many researchers have worked to find out the best strategies to carry out a semi-supervised classification that could outperform its supervised counterpart. The idea is to train a classifier with a few labeled samples and then improve its accuracy after adding weighted unlabeled samples. One of the best results is the CPLE algorithm.\n",
    "<br>\n",
    "<br>\n",
    "Before we can explain this algorithm, it's necessary to define Platt scaling. As CPLE is a generic framework that can be used with any classification algorithm when the probabilities are not available, it's useful to implement a technique called Platt scaling, which allows us to transform the decision function into a probability, through a parametrized sigmoid.\n",
    "<br>\n",
    "<br>\n",
    "<code>scikit-learn</code> provides the method <code>predict_proba()</code>, which returns the probabilities for all classes. Platt scaling is performed automatically or on demand; for example, the SCV classifier needs to have the parameter <code>probability=True</code> in order to compute the probability mapping.\n",
    "<br>\n",
    "<h2>Contrastive Pessimistic Likelihood Estimation for Semi-Supervised Classification</h2>"
   ]
  },
  {
   "cell_type": "markdown",
   "metadata": {},
   "source": [
    "<h2>Example of Contrastive Pessimistic Likelihood Estimation</h2>\n",
    "<br>\n",
    "We're going to implement the CPLE algorithm in Python, using a subset extracted from the MNIST dataset. For simplicity, we're going to use only the samples representing the digits 0 and 1"
   ]
  },
  {
   "cell_type": "code",
   "execution_count": 1,
   "metadata": {},
   "outputs": [],
   "source": [
    "import numpy as np\n",
    "import joblib\n",
    "\n",
    "from scipy.optimize import fmin_bfgs\n",
    "\n",
    "from sklearn.datasets import load_digits\n",
    "from sklearn.linear_model import LogisticRegression\n",
    "from sklearn.model_selection import cross_val_score"
   ]
  },
  {
   "cell_type": "code",
   "execution_count": 14,
   "metadata": {},
   "outputs": [],
   "source": [
    "# Set random seed for reproducibility\n",
    "np.random.seed(1000)"
   ]
  },
  {
   "cell_type": "code",
   "execution_count": 15,
   "metadata": {},
   "outputs": [],
   "source": [
    "nb_unlabeled = 150"
   ]
  },
  {
   "cell_type": "code",
   "execution_count": 16,
   "metadata": {},
   "outputs": [],
   "source": [
    "# Create a training Logistic Regression instance\n",
    "lr = LogisticRegression(solver=\"lbfgs\",\n",
    "                        max_iter=10000,\n",
    "                        multi_class=\"auto\",\n",
    "                        n_jobs=-1,\n",
    "                        random_state=1000)"
   ]
  },
  {
   "cell_type": "code",
   "execution_count": 17,
   "metadata": {},
   "outputs": [],
   "source": [
    "# Initialize soft-variables/soft-labels\n",
    "q0 = np.random.uniform(0, 1, size=nb_unlabeled)"
   ]
  },
  {
   "cell_type": "code",
   "execution_count": 18,
   "metadata": {},
   "outputs": [],
   "source": [
    "# Vectorized threshold function\n",
    "trh = np.vectorize(lambda x: 0.0 if x < 0.5 else 1.0)"
   ]
  },
  {
   "cell_type": "markdown",
   "metadata": {},
   "source": [
    "In order to compute the log-likelihood, we also need a weighted log-loss (similar to the <code>scikit-learn</code> function <code>log_loss()</code>, which, however, computes the negative log-likelihood but doesn't support weights):"
   ]
  },
  {
   "cell_type": "code",
   "execution_count": 19,
   "metadata": {},
   "outputs": [],
   "source": [
    "def weighted_log_loss(yt, p, w=None, eps=1e-15):\n",
    "    if w is None:\n",
    "        w_t = np.ones((yt.shape[0], 2))\n",
    "    else:\n",
    "        w_t = np.vstack((w, 1.0 - w)).T\n",
    "\n",
    "    Y_t = np.vstack((1.0 - yt.squeeze(), yt.squeeze())).T\n",
    "    L_t = np.sum(w_t * Y_t * np.log(np.clip(p, eps, 1.0 - eps)), axis=1)\n",
    "\n",
    "    return np.mean(L_t)"
   ]
  },
  {
   "cell_type": "markdown",
   "metadata": {},
   "source": [
    "This function computes the following expression:\n",
    "<br>\n",
    "<br>\n",
    "<div>\n",
    "    <img src='images/cple_wll.jpg'>\n",
    "</div>\n",
    "\n",
    "We also need a function to build the dataset with variable soft-labels $q_i$:\n"
   ]
  },
  {
   "cell_type": "code",
   "execution_count": 20,
   "metadata": {},
   "outputs": [],
   "source": [
    "def build_dataset(q):\n",
    "    Y_unlabeled = trh(q)\n",
    "\n",
    "    X_n = np.zeros((nb_samples, nb_dimensions))\n",
    "    X_n[0:nb_samples - nb_unlabeled] = X[Y.squeeze() != -1]\n",
    "    X_n[nb_samples - nb_unlabeled:] = X[Y.squeeze() == -1]\n",
    "\n",
    "    Y_n = np.zeros((nb_samples, 1))\n",
    "    Y_n[0:nb_samples - nb_unlabeled] = Y[Y.squeeze() != -1]\n",
    "    Y_n[nb_samples - nb_unlabeled:] = np.expand_dims(Y_unlabeled, axis=1)\n",
    "\n",
    "    return X_n, Y_n"
   ]
  },
  {
   "cell_type": "markdown",
   "metadata": {},
   "source": [
    "At this point, we can define our contrastive log-likelihood:"
   ]
  },
  {
   "cell_type": "code",
   "execution_count": 21,
   "metadata": {},
   "outputs": [],
   "source": [
    "def log_likelihood(q):\n",
    "    X_n, Y_n = build_dataset(q)\n",
    "    Y_soft = trh(q)\n",
    "\n",
    "    lr.fit(X_n, Y_n.squeeze())\n",
    "\n",
    "    p_sup = lr.predict_proba(X[Y.squeeze() != -1])\n",
    "    p_semi = lr.predict_proba(X[Y.squeeze() == -1])\n",
    "\n",
    "    l_sup = weighted_log_loss(Y[Y.squeeze() != -1], p_sup)\n",
    "    l_semi = weighted_log_loss(Y_soft, p_semi, q)\n",
    "\n",
    "    return l_semi - l_sup"
   ]
  },
  {
   "cell_type": "markdown",
   "metadata": {},
   "source": [
    "This method will be called by the optimizer, passing a different q vector each time. The first step is building the new dataset and computing <code>Y_soft</code>, which are the labels corresponding to $q$. Then, the logistic regression classifier is trained with the dataset (as <code>Y_n</code> is a $(k, 1)$ array, it's necessary to squeeze it to avoid a warning; the same thing is done when using Y as a Boolean indicator). At this point, it's possible to compute both $p_{sup}$ and $p_{sem}$ using the method <code>predict_proba()</code>, and finally, we can compute the semi-supervised and supervised log-loss, a function of $q_i$, which is the term that we want to minimize, while the maximization of  is done implicitly when training the logistic regression."
   ]
  },
  {
   "cell_type": "code",
   "execution_count": 22,
   "metadata": {},
   "outputs": [],
   "source": [
    "# Load dataset\n",
    "X_a, Y_a = load_digits(return_X_y=True)"
   ]
  },
  {
   "cell_type": "code",
   "execution_count": 23,
   "metadata": {},
   "outputs": [],
   "source": [
    "# Select the subset containing all 0s and 1s\n",
    "X = np.vstack((X_a[Y_a == 0], X_a[Y_a == 1]))\n",
    "Y = np.vstack((np.expand_dims(Y_a, axis=1)[Y_a == 0], np.expand_dims(Y_a, axis=1)[Y_a == 1]))"
   ]
  },
  {
   "cell_type": "code",
   "execution_count": 24,
   "metadata": {},
   "outputs": [],
   "source": [
    "nb_samples = X.shape[0]\n",
    "nb_dimensions = X.shape[1]\n",
    "Y_true = np.zeros((nb_unlabeled,))"
   ]
  },
  {
   "cell_type": "code",
   "execution_count": 25,
   "metadata": {},
   "outputs": [],
   "source": [
    "# Select nb_unlabeled samples\n",
    "unlabeled_idx = np.random.choice(np.arange(0, nb_samples, 1), replace=False, size=nb_unlabeled)\n",
    "Y_true = Y[unlabeled_idx].copy()\n",
    "Y[unlabeled_idx] = -1"
   ]
  },
  {
   "cell_type": "markdown",
   "metadata": {},
   "source": [
    "After creating the restricted dataset (X, Y) which contain 360 samples, we randomly select 150 samples (about 42%) to become unlabeled (the corresponding y is -1). At this point, we can measure the performance of logistic regression trained only on the labeled dataset:"
   ]
  },
  {
   "cell_type": "code",
   "execution_count": 28,
   "metadata": {},
   "outputs": [
    {
     "name": "stdout",
     "output_type": "stream",
     "text": [
      "0.5066666666666667\n"
     ]
    }
   ],
   "source": [
    "lr_test = LogisticRegression(solver=\"lbfgs\", max_iter=10000, multi_class=\"auto\", n_jobs=-1, random_state=1000)\n",
    "lr_test.fit(X[Y.squeeze() != -1], Y[Y.squeeze() != -1].squeeze())\n",
    "unlabeled_score = lr_test.score(X[Y.squeeze() == -1], Y_true)\n",
    "print(unlabeled_score)"
   ]
  },
  {
   "cell_type": "code",
   "execution_count": 29,
   "metadata": {},
   "outputs": [
    {
     "name": "stdout",
     "output_type": "stream",
     "text": [
      "CV scores (only Logistic Regression)\n",
      "[0.41666667 0.58333333 0.63888889 0.19444444 0.44444444 0.27777778\n",
      " 0.44444444 0.38888889 0.5        0.41666667]\n"
     ]
    }
   ],
   "source": [
    "# Check the CV scores using only a Logistic Regression\n",
    "total_cv_scores = cross_val_score(LogisticRegression(solver=\"lbfgs\", max_iter=10000, multi_class=\"auto\", n_jobs=-1, random_state=1000),\n",
    "                                  X, \n",
    "                                  Y.squeeze(), \n",
    "                                  cv=10, \n",
    "                                  n_jobs=joblib.cpu_count())\n",
    "\n",
    "print('CV scores (only Logistic Regression)')\n",
    "print(total_cv_scores)"
   ]
  },
  {
   "cell_type": "markdown",
   "metadata": {},
   "source": [
    "The optimization is carried out using the <b>Broyden–Fletcher–Goldfarb–Shanno (BFGS) algorithm</b> implemented in <code>SciPy</code>:"
   ]
  },
  {
   "cell_type": "code",
   "execution_count": null,
   "metadata": {},
   "outputs": [
    {
     "name": "stdout",
     "output_type": "stream",
     "text": [
      "Training CPLE...\n"
     ]
    }
   ],
   "source": [
    "# Train CPLE\n",
    "print('Training CPLE...')\n",
    "q_end = fmin_bfgs(log_likelihood, x0=q0, maxiter=10)"
   ]
  },
  {
   "cell_type": "markdown",
   "metadata": {},
   "source": [
    "This is a very fast algorithm, but the user is encouraged to experiment with methods or libraries. The two parameters we need in this case are <code>f</code>, which is the function to minimize, and <code>x0</code>, which is the initial condition for the independent variables. <code>maxiter</code> is helpful for avoiding an excessive number of iterations when no improvements are achieved (considering the non-convex nature of the problem, this can be very frequent). Once the optimization is complete, <code>q_end</code> contains the optimal soft-labels. We can, therefore, rebuild our dataset:"
   ]
  },
  {
   "cell_type": "code",
   "execution_count": null,
   "metadata": {},
   "outputs": [],
   "source": [
    "# Build the final dataset\n",
    "X_n, Y_n = build_dataset(q_end)"
   ]
  },
  {
   "cell_type": "code",
   "execution_count": null,
   "metadata": {},
   "outputs": [],
   "source": [
    "# Check the CV scores using CPLE\n",
    "final_semi_cv_scores = cross_val_score(LogisticRegression(solver=\"lbfgs\", max_iter=10000, multi_class=\"auto\", random_state=1000),\n",
    "                                       X_n,\n",
    "                                       Y_n.squeeze(),\n",
    "                                       cv=10,\n",
    "                                       n_jobs=joblib.cpu_count())"
   ]
  },
  {
   "cell_type": "markdown",
   "metadata": {},
   "source": [
    "With this final configuration, we can retrain the logistic regression and check the cross-validation accuracy:"
   ]
  },
  {
   "cell_type": "code",
   "execution_count": null,
   "metadata": {},
   "outputs": [],
   "source": [
    "print('CV scores (CPLE)')\n",
    "print(final_semi_cv_scores)"
   ]
  },
  {
   "cell_type": "markdown",
   "metadata": {},
   "source": [
    "The semi-supervised solution based on the CPLE algorithms achieves an average $81$% accuracy, outperforming, as expected, the supervised approach ($43$%).\n",
    "<br>\n",
    "<h2>CPLE Summary</h2>\n",
    "<br>\n",
    "CPLE is able to outperform standard classification methods with a limited computational cost, which can be relatively larger due to the re-evaluation of the log-likelihood by the optimization function. However, extra complexity is a normal condition in semi-supervised learning and, at this point, it should be clear when this cost is reasonable and when it's preferable to stick to a smaller, labeled, dataset. It is possible to try other examples using different classifiers, such as SVM or Decision Trees, and verify when CPLE allows obtaining higher accuracy than other supervised algorithms."
   ]
  },
  {
   "cell_type": "markdown",
   "metadata": {},
   "source": [
    "<h2>S<sup>3</sup>VM</h2>\n",
    "<br>\n",
    "it's useful to remind of the basic model for a linear SVM with slack variables $\\xi_{i}$:\n",
    "<br>\n",
    "<br>\n",
    "<div>\n",
    "    <img src='images/s3vm_0.png'>\n",
    "</div>\n",
    "<br>\n",
    "<br>\n",
    "The model is based on the assumption that $y_i$ can be either $-1$ or $1$. The slack variables $\\xi_{i}$ or soft-margins are variables, one for each sample, introduced to reduce the strength imposed by the original condition $(min \t\\parallel w\t\\parallel)$, which is based on a hard margin that misclassifies all the samples that are on the wrong side. They are defined by the Hinge loss, as follows:\n",
    "<br>\n",
    "<br>\n",
    "<div>\n",
    "    <img src='images/s3vm_1.png'>\n",
    "</div>\n",
    "<br>\n",
    "<br>\n",
    "With those variables, we allow some points to overcome the limit without being misclassified if they remain within a distance controlled by the corresponding slack variable (which is also minimized during the training phase, so as to avoid uncontrollable growth). In the following diagram, there's a schematic representation of this process:\n",
    "<br>\n",
    "<br>\n",
    "<div>\n",
    "    <img src='images/s3vm_2.png'>\n",
    "</div>\n",
    "<br>\n",
    "<br>\n",
    "The image above represents a Linear SVM classification scenario.\n",
    "<br>\n",
    "<br>\n",
    "The last elements of each high-density region are the support vectors. Between them, there's a low-density region (it can also be zero-density in some cases) where our separating hyperplane lies.\n",
    "<br>\n",
    "<br>\n",
    "Therefore, we can turn the SVM problem into the minimization of empirical risk (<i>a proxy for expected risk</i>), under the Hinge cost function (with or without Ridge Regularization on $w$):\n",
    "<br>\n",
    "<br>\n",
    "<div>\n",
    "    <img src='images/s3vm_3.png'>\n",
    "</div>\n",
    "<br>\n",
    "<br>\n",
    "Theoretically, every function that is always bounded by two hyperplanes containing the support vectors is a good classifier, but we need to minimize the empirical risk (and so, the expected risk); hence, we look for the maximum margin between high-density regions. This model can separate two dense regions with irregular boundaries; by adopting a kernel function, it can also work in non-linear scenarios. The natural question, at this point, is about the best strategy to integrate labeled and unlabeled samples when we need to solve this kind of problem in a semi-supervised scenario.\n",
    "<br>\n",
    "<br>\n",
    "The first element to consider is the ratio: if we have a low percentage of unlabeled points, the problem is mainly supervised, and the generalization ability learned using the training set should be enough to correctly classify all the unlabeled points. On the other hand, if the number of unlabeled samples is much larger, we return to an almost pure clustering scenario (like the one discussed in the paragraph about the Generative Gaussian mixtures). That means that in order to exploit the strength of semi-supervised methods in low-density separation problems, we should consider situations where the ratio labeled/unlabeled is about 1.0.\n",
    "<br>\n",
    "<br>\n",
    "However, even if we have the predominance of a class (for example, if we have a huge unlabeled dataset and only a few labeled samples), it's always possible to use the algorithms we're going to discuss, even if their performance can sometimes be equal to or lower than a pure supervised/clustering solution. Transductive SMVs, for example, show better accuracies when the labeled/unlabeled ratio is very small, while other methods can behave in a completely different way. When working with semi-supervised learning (and its assumptions), it's always important to bear in mind that each problem is supervised and unsupervised at the same time; the best solution must be evaluated in every different context.\n",
    "<br>\n",
    "<br>\n",
    "A solution for this problem is offered by the Semi-Supervised SVM (also known as <i>S<sup>3</sup>VM</i>) algorithm. If we have $N$ labeled samples and $M$ unlabeled samples, the objective function becomes as follows:\n",
    "<br>\n",
    "<br>\n",
    "<div>\n",
    "    <img src='images/s3vm_4.png'>\n",
    "</div>\n",
    "<br>\n",
    "<br>\n",
    "The first term imposes the standard SVM condition about the maximum separation distance, while the second block is divided into two parts:\n",
    "<ul>\n",
    "    <li>We need to add $N$ slack variables $\\eta_i$ to guarantee a soft-margin for the labeled samples.</li>\n",
    "    <li>At the same time, we have to consider the unlabeled points, which could be classified as $+1$ or $-1$. Therefore, we \n",
    "        have two corresponding slack-variable sets $\\xi_i$ and $z_i$. However, we want to find the smallest variable for each \n",
    "        possible pair, so as to be sure that the unlabeled sample is placed on the sub-space where the maximum accuracy is \n",
    "        achieved.</li>\n",
    "</ul>\n",
    "<br>\n",
    "The constraints necessary to solve the problems become as follows:\n",
    "<br>\n",
    "<br>\n",
    "<div>\n",
    "    <img src='images/s3vm_5.png'>\n",
    "</div>\n",
    "<br>\n",
    "<br>\n",
    "The first constraint is limited to the labeled points and it's the same as a supervised SVM. The following two, instead, consider the possibility that an unlabeled sample could be classified as $+1$ or $-1$. Let's suppose, for example, that the label $y_j$ for the sample $x_j$ should be $+1$ and the first member of the second inequality is a positive number $K$ (so the corresponding term of the third equation is $-K$). It's easy to verify that the first slack variable is $\\xi_i ≥ 1 - K$, while the second one is $z_j ≥ 1 + K$. Therefore, in the objective,  $\\xi_j$ is chosen to be minimized.\n",
    "<br>\n",
    "<br>\n",
    "The choice of the hyperparameter $C$ should be based on the same criteria employed for standard SVM. In particular, when $C → 0$, the number of support vectors is reduced toward the minimum, while larger values (for example, $C=1$) imply an increased flexibility of the boundaries. Even if this model is structurally an SVM, the presence of unlabeled samples influences the optimization process, yielding very different results when, for example, $C$ is increased from $0\\;to\\;1$.\n",
    "<br>\n",
    "<br>\n",
    "The algorithm will try to find the smallest slack values for the unlabeled samples, but since there are no guiding labels, the final choice could be incompatible with the problem. Considering both cluster and smoothness assumptions, the unlabeled samples should acquire the label of the closest coherent dense region. As it's possible to see by changing the value of $C$, this is not always true, because, in order to minimize the slack error, the algorithm could assign a label geometrically incompatible with the sample.\n",
    "<br>\n",
    "<br>\n",
    "For example, the closest region to a point next to the boundary might be a cluster with fixed labels. In this case, we'd expect this point to have the same label.\n",
    "<br>\n",
    "<br>\n",
    "<b>However, if the objective is minimized by assigning a different label, the algorithm will make an inappropriate decision, because there are no penalties for not respecting the cluster assumption. Therefore, as a generic rule, we suggest starting with a larger value (for example, $C=1$) and reducing it only after having compared the results with an analogous supervised classifier. In most cases, the optimal value can be found with a few iterations, when a performance measure (for example, AUC, F1-score, or accuracy) of the S3VM overcomes the corresponding measure of the benchmark method.</b>\n",
    "<br>\n",
    "<br>\n",
    "This algorithm is inductive and generally yields good (if not excellent) performances. However, it has a very high computational cost, and should be solved using optimized (native) libraries. Unfortunately, it's a non-convex problem, and there are no methods to solve it in closed form; this also implies that the optimization might not reach the optimal configuration.\n",
    "<br>\n",
    "<h2>Example of S<sup>3</sup>VM</h2>\n",
    "<br>\n",
    "<b>Import Necessary Packages & Libraries</b>"
   ]
  },
  {
   "cell_type": "code",
   "execution_count": 1,
   "metadata": {},
   "outputs": [
    {
     "name": "stderr",
     "output_type": "stream",
     "text": [
      "c:\\users\\kleye\\anaconda3\\envs\\ai\\lib\\site-packages\\statsmodels\\tools\\_testing.py:19: FutureWarning: pandas.util.testing is deprecated. Use the functions in the public API at pandas.testing instead.\n",
      "  import pandas.util.testing as tm\n"
     ]
    }
   ],
   "source": [
    "import matplotlib.pyplot as plt\n",
    "import numpy as np\n",
    "import seaborn as sns\n",
    "from scipy.optimize import minimize\n",
    "from sklearn.datasets import make_classification"
   ]
  },
  {
   "cell_type": "markdown",
   "metadata": {},
   "source": [
    "<b>Set random Seed for Reproducibility</b>"
   ]
  },
  {
   "cell_type": "code",
   "execution_count": 2,
   "metadata": {},
   "outputs": [],
   "source": [
    "np.random.seed(1000)"
   ]
  },
  {
   "cell_type": "markdown",
   "metadata": {},
   "source": [
    "Let's start by creating a bidimensional dataset, with both labeled and unlabeled samples (with $50\\%$ of each), we set the last 50 samples as unlabeled ($y = 0$)."
   ]
  },
  {
   "cell_type": "code",
   "execution_count": 3,
   "metadata": {},
   "outputs": [],
   "source": [
    "nb_samples = 100\n",
    "nb_unlabeled = 50"
   ]
  },
  {
   "cell_type": "markdown",
   "metadata": {},
   "source": [
    "<b>Create Dataset</b>"
   ]
  },
  {
   "cell_type": "code",
   "execution_count": 4,
   "metadata": {},
   "outputs": [],
   "source": [
    "X, Y = make_classification(n_samples=nb_samples, n_features=2, n_redundant=0, random_state=1000)\n",
    "Y[Y==0] = -1\n",
    "Y[nb_samples - nb_unlabeled:nb_samples] = 0"
   ]
  },
  {
   "cell_type": "markdown",
   "metadata": {},
   "source": [
    "<b>Initialize S<sup>3</sup>VM variables</b>\n",
    "<br>\n",
    "<br>\n",
    "Initialize all variables required for the optimization problem"
   ]
  },
  {
   "cell_type": "code",
   "execution_count": 5,
   "metadata": {},
   "outputs": [],
   "source": [
    "w = np.random.uniform(-0.1, 0.1, size=X.shape[1])\n",
    "eta = np.random.uniform(0.0, 0.1, size=nb_samples - nb_unlabeled)\n",
    "xi = np.random.uniform(0.0, 0.1, size=nb_unlabeled)\n",
    "zi = np.random.uniform(0.0, 0.1, size=nb_unlabeled)\n",
    "b = np.random.uniform(-0.1, 0.1, size=1)\n",
    "C = 1.0"
   ]
  },
  {
   "cell_type": "markdown",
   "metadata": {},
   "source": [
    "<b>Stack all variables into a single vector</b>"
   ]
  },
  {
   "cell_type": "code",
   "execution_count": 6,
   "metadata": {},
   "outputs": [],
   "source": [
    "theta0 = np.hstack((w, eta, xi, zi, b))"
   ]
  },
  {
   "cell_type": "markdown",
   "metadata": {},
   "source": [
    "Since the optimization algorithm requires a single array, we've stacked all vectors into a horizontal array <code>theta0</code> using the <code>np.hstack()</code> function. We also need to vectorize the <code>min()</code> function in order to apply it to arrays.\n",
    "<br>\n",
    "<br>\n",
    "<b>Vectorize the <code>min()</code> function</b>"
   ]
  },
  {
   "cell_type": "code",
   "execution_count": 7,
   "metadata": {},
   "outputs": [],
   "source": [
    "vmin = np.vectorize(lambda x1, x2: x1 if x1 <= x2 else x2)"
   ]
  },
  {
   "cell_type": "markdown",
   "metadata": {},
   "source": [
    "Now, we can define the objective function:"
   ]
  },
  {
   "cell_type": "code",
   "execution_count": 8,
   "metadata": {},
   "outputs": [],
   "source": [
    "def svm_target(theta, Xd, Yd):\n",
    "    wt = theta[0:2].reshape((Xd.shape[1], 1))\n",
    "\n",
    "    s_eta = np.sum(theta[2:2 + nb_samples - nb_unlabeled])\n",
    "    s_min_xi_zi = np.sum(vmin(theta[2 + nb_samples - nb_unlabeled:2 + nb_samples],\n",
    "                              theta[2 + nb_samples:2 + nb_samples + nb_unlabeled]))\n",
    "\n",
    "    return C * (s_eta + s_min_xi_zi) + 0.5 * np.dot(wt.T, wt)"
   ]
  },
  {
   "cell_type": "markdown",
   "metadata": {},
   "source": [
    "The arguments are the current <code>theta</code> vector and the complete datasets <code>Xd</code> and <code>Yd</code>. The dot product of <code>w</code> has been multiplied by $0.5$ to keep the conventional notation used for supervised SVMs. The constant can be omitted without any impact. At this point, we need to define all the constraints, since they are based on the slack variables; each function (which shares the same parameters of the objectives) is parametrized with an index, <code>idx</code>.\n",
    "<br>\n",
    "<br>\n",
    "The labeled constraint is as follows"
   ]
  },
  {
   "cell_type": "code",
   "execution_count": 9,
   "metadata": {},
   "outputs": [],
   "source": [
    "def labeled_constraint(theta, Xd, Yd, idx):\n",
    "    wt = theta[0:2].reshape((Xd.shape[1], 1))\n",
    "\n",
    "    c = Yd[idx] * (np.dot(Xd[idx], wt) + theta[-1]) + \\\n",
    "        theta[2:2 + nb_samples - nb_unlabeled][idx] - 1.0\n",
    "\n",
    "    return (c >= 0)[0]"
   ]
  },
  {
   "cell_type": "markdown",
   "metadata": {},
   "source": [
    "The unlabeled constraints, instead, are as follows"
   ]
  },
  {
   "cell_type": "code",
   "execution_count": 10,
   "metadata": {},
   "outputs": [],
   "source": [
    "def unlabeled_constraint_1(theta, Xd, idx):\n",
    "    wt = theta[0:2].reshape((Xd.shape[1], 1))\n",
    "\n",
    "    c = np.dot(Xd[idx], wt) - theta[-1] + \\\n",
    "        theta[2 + nb_samples - nb_unlabeled:2 + nb_samples][idx - nb_samples + nb_unlabeled] - 1.0\n",
    "\n",
    "    return (c >= 0)[0]"
   ]
  },
  {
   "cell_type": "code",
   "execution_count": 11,
   "metadata": {},
   "outputs": [],
   "source": [
    "def unlabeled_constraint_2(theta, Xd, idx):\n",
    "    wt = theta[0:2].reshape((Xd.shape[1], 1))\n",
    "\n",
    "    c = -(np.dot(Xd[idx], wt) - theta[-1]) + \\\n",
    "        theta[2 + nb_samples:2 + nb_samples + nb_unlabeled][idx - nb_samples + nb_unlabeled] - 1.0\n",
    "\n",
    "    return (c >= 0)[0]"
   ]
  },
  {
   "cell_type": "markdown",
   "metadata": {},
   "source": [
    "They're parametrized with the current <code>theta</code> vector, the <code>Xd</code> dataset and an <code>idx</code> index. We also need to include the constraints for each slack variable $(≥ 0)$:"
   ]
  },
  {
   "cell_type": "code",
   "execution_count": 12,
   "metadata": {},
   "outputs": [],
   "source": [
    "def eta_constraint(theta, idx):\n",
    "    return theta[2:2 + nb_samples - nb_unlabeled][idx] >= 0"
   ]
  },
  {
   "cell_type": "code",
   "execution_count": 13,
   "metadata": {},
   "outputs": [],
   "source": [
    "def xi_constraint(theta, idx):\n",
    "    return theta[2 + nb_samples - nb_unlabeled:2 + nb_samples][idx - nb_samples + nb_unlabeled] >= 0"
   ]
  },
  {
   "cell_type": "code",
   "execution_count": 14,
   "metadata": {},
   "outputs": [],
   "source": [
    "def zi_constraint(theta, idx):\n",
    "    return theta[2 + nb_samples:2 + nb_samples+nb_unlabeled ][idx - nb_samples + nb_unlabeled] >= 0"
   ]
  },
  {
   "cell_type": "markdown",
   "metadata": {},
   "source": [
    "<b>Show the initial dataset</b>"
   ]
  },
  {
   "cell_type": "code",
   "execution_count": 15,
   "metadata": {},
   "outputs": [
    {
     "data": {
      "image/png": "[encoded data removed]",
      "text/plain": [
       "<Figure size 864x648 with 1 Axes>"
      ]
     },
     "metadata": {},
     "output_type": "display_data"
    }
   ],
   "source": [
    "sns.set()\n",
    "\n",
    "fig, ax = plt.subplots(figsize=(12, 9))\n",
    "\n",
    "ax.scatter(X[Y == -1, 0], X[Y == -1, 1], marker='o', s=100, label='Class 0')\n",
    "ax.scatter(X[Y == 1, 0], X[Y == 1, 1], marker='^', s=100, label='Class 1')\n",
    "ax.scatter(X[Y == 0, 0], X[Y == 0, 1], facecolor='none', edgecolor='#003200', marker='o', s=80, label='Unlabeled')\n",
    "\n",
    "ax.set_xlabel(r'$x_0$', fontsize=16)\n",
    "ax.set_ylabel(r'$x_1$', fontsize=16)\n",
    "ax.grid(True)\n",
    "ax.legend(fontsize=16)\n",
    "\n",
    "plt.show()"
   ]
  },
  {
   "cell_type": "markdown",
   "metadata": {},
   "source": [
    "<b>Setup all the constraints</b>\n",
    "<br>\n",
    "<br>\n",
    "We can now set up the problem using the <code>SciPy</code> convention:\n",
    "<br>\n",
    "<br>\n",
    "Each constraint is represented by a dictionary, where <code>type</code> is set to <code>ineq</code> to indicate that it is an inequality, <code>fun</code> points to the callable object and <code>args</code> contains all extra arguments (theta is the main $x$ variable and it's automatically added)."
   ]
  },
  {
   "cell_type": "code",
   "execution_count": 16,
   "metadata": {},
   "outputs": [],
   "source": [
    "svm_constraints = []\n",
    "\n",
    "for i in range(nb_samples - nb_unlabeled):\n",
    "    svm_constraints.append({\n",
    "        'type': 'ineq',\n",
    "        'fun': labeled_constraint,\n",
    "        'args': (X, Y, i)\n",
    "    })\n",
    "    svm_constraints.append({\n",
    "        'type': 'ineq',\n",
    "        'fun': eta_constraint,\n",
    "        'args': (i,)\n",
    "    })\n",
    "\n",
    "for i in range(nb_samples - nb_unlabeled, nb_samples):\n",
    "    svm_constraints.append({\n",
    "        'type': 'ineq',\n",
    "        'fun': unlabeled_constraint_1,\n",
    "        'args': (X, i)\n",
    "    })\n",
    "    svm_constraints.append({\n",
    "        'type': 'ineq',\n",
    "        'fun': unlabeled_constraint_2,\n",
    "        'args': (X, i)\n",
    "    })\n",
    "    svm_constraints.append({\n",
    "        'type': 'ineq',\n",
    "        'fun': xi_constraint,\n",
    "        'args': (i,)\n",
    "    })\n",
    "    svm_constraints.append({\n",
    "        'type': 'ineq',\n",
    "        'fun': zi_constraint,\n",
    "        'args': (i,)\n",
    "    })"
   ]
  },
  {
   "cell_type": "markdown",
   "metadata": {},
   "source": [
    "<b>Optimize the Objective</b>\n",
    "<br>\n",
    "<br>\n",
    "Using <code>SciPy</code>, it's possible to minimize the objective using either the <b>Sequential Least Squares Programming (SLSQP)</b> or <b>Constraint Optimization by Linear Approximation (COBYLA)</b> algorithms. We've chosen the latter, but the reader is free to employ any other method or library. In order to limit the number of iterations, we've also set the optional dictionary parameter <code>maxiter</code>: 5000:"
   ]
  },
  {
   "cell_type": "code",
   "execution_count": 26,
   "metadata": {},
   "outputs": [
    {
     "name": "stdout",
     "output_type": "stream",
     "text": [
      "Optimizing...\n"
     ]
    }
   ],
   "source": [
    "print('Optimizing...')\n",
    "result = minimize(fun=svm_target,\n",
    "                  x0=theta0,\n",
    "                  constraints=svm_constraints,\n",
    "                  args=(X, Y),\n",
    "                  method=\"COBYLA\",\n",
    "                  tol=0.0001,\n",
    "                  options={\n",
    "                      \"maxiter\": 500,\n",
    "                  })"
   ]
  },
  {
   "cell_type": "markdown",
   "metadata": {},
   "source": [
    "Let's take a look at <code>result</code>"
   ]
  },
  {
   "cell_type": "code",
   "execution_count": 27,
   "metadata": {},
   "outputs": [
    {
     "name": "stdout",
     "output_type": "stream",
     "text": [
      "     fun: -205.34906906391052\n",
      "   maxcv: 0.0\n",
      " message: 'Maximum number of function evaluations has been exceeded.'\n",
      "    nfev: 500\n",
      "  status: 2\n",
      " success: False\n",
      "       x: array([ 0.39557975,  0.65449024, -1.24127183, -3.42067528, -1.66171413,\n",
      "       -1.16891959, -2.41546137, -8.50049732, -1.80900729, -1.465014  ,\n",
      "       -1.72158871, -1.63074029, -1.4452721 , -1.10885126, -1.03468544,\n",
      "       -1.77712671, -1.03086657, -1.1498329 , -2.52145259, -1.19674923,\n",
      "       -1.10235655, -1.43225514, -1.5329023 , -1.71040697, -2.58246024,\n",
      "       -1.74165845, -2.32506401, -1.03234271, -1.0253725 , -2.36951731,\n",
      "       -2.08189588, -1.08522338, -1.74635266, -1.08897156, -1.65876669,\n",
      "       -1.53613734, -1.0385885 , -0.73974989, -1.00791707, -1.41348583,\n",
      "       -2.33307426, -1.75706398, -1.67052953, -0.60030941, -0.3487886 ,\n",
      "       -1.00061521, -1.67482021, -0.30267827, -0.39977981, -0.56663723,\n",
      "       -0.15024772, -2.36023922,  0.80545019, -2.66091929, -2.45685241,\n",
      "       -2.40294081, -2.54267639, -2.37268551, -2.77619449, -2.65672575,\n",
      "       -2.49273625, -2.53324974,  0.79487783,  0.79378125, -2.34253517,\n",
      "       -0.67198754, -0.63730273, -2.38984228, -0.59751023, -0.66178346,\n",
      "       -2.23131828, -2.21033051, -0.53270969, -0.51909972, -0.52006487,\n",
      "       -0.51010173, -0.4462868 , -0.44643232, -0.39455305, -2.68069468,\n",
      "       -2.59271511, -0.48003995, -0.46951331, -0.37047336, -2.56901872,\n",
      "       -2.49180795, -0.42527008, -2.51831575, -0.40777645, -2.42426547,\n",
      "       -0.33731648, -0.37171725, -2.67004242, -1.92017861, -0.381998  ,\n",
      "       -0.25694974, -1.86809332, -0.47766235, -0.23935906, -2.54430759,\n",
      "       -2.68358367, -0.5562269 , -2.66940356, -0.18275703, -0.1713039 ,\n",
      "       -0.16401799, -0.75955366, -0.16700158, -0.06384299, -0.65425086,\n",
      "       -3.3311066 ,  1.10804402, -2.40318104, -2.4484776 , -0.57818673,\n",
      "       -2.41458201, -2.62993926, -0.51733976, -2.56998252, -2.17950501,\n",
      "        1.03161396,  1.11608542, -2.64338134, -2.59698308, -2.79844234,\n",
      "       -2.34504933, -2.2703531 , -2.50127623, -2.60318763,  0.37828812,\n",
      "        0.37112065, -2.68895605, -2.63384406, -2.47573579,  0.7662898 ,\n",
      "        0.80332086, -2.33660941, -0.63472515, -2.83257436,  1.11391403,\n",
      "       -2.43785694, -2.57901508, -2.43343383,  0.12852235, -2.62859482,\n",
      "       -2.58106503,  0.11641804, -2.59865616, -2.48463036, -0.23082639,\n",
      "       -0.06781182, -2.70387178,  1.01679523])\n"
     ]
    }
   ],
   "source": [
    "print('{}'.format(result))"
   ]
  },
  {
   "cell_type": "markdown",
   "metadata": {},
   "source": [
    "<b>Extract the Last Parameters</b>\n",
    "<br>\n",
    "<br>\n",
    "After the training process is complete, we can compute the labels for the unlabeled points:"
   ]
  },
  {
   "cell_type": "code",
   "execution_count": 28,
   "metadata": {},
   "outputs": [],
   "source": [
    "theta_end = result['x']\n",
    "w = theta_end[0:2]\n",
    "b = theta_end[-1]\n",
    "\n",
    "Xu = X[nb_samples - nb_unlabeled:nb_samples]\n",
    "yu = -np.sign(np.dot(Xu, w) + b)"
   ]
  },
  {
   "cell_type": "markdown",
   "metadata": {},
   "source": [
    "<b>Show the Final Plots</b>\n",
    "<br>\n",
    "<br>\n",
    "In the next graph, it's possible to compare the initial plot (left) with the final one where all points have been assigned a label (right)"
   ]
  },
  {
   "cell_type": "code",
   "execution_count": 29,
   "metadata": {},
   "outputs": [
    {
     "data": {
      "image/png": "[encoded data removed]",
      "text/plain": [
       "<Figure size 1584x648 with 2 Axes>"
      ]
     },
     "metadata": {},
     "output_type": "display_data"
    }
   ],
   "source": [
    "fig, ax = plt.subplots(1, 2, figsize=(22, 9), sharey=True)\n",
    "\n",
    "ax[0].scatter(X[Y == -1, 0], X[Y == -1, 1], marker='o', s=100, label='Class 0')\n",
    "ax[0].scatter(X[Y == 1, 0], X[Y == 1, 1], marker='^', s=100, label='Class 1')\n",
    "ax[0].scatter(X[Y == 0, 0], X[Y == 0, 1], facecolor='none', edgecolor='#003200', marker='o', s=100, label='Unlabeled')\n",
    "\n",
    "ax[0].set_xlabel(r'$x_0$', fontsize=16)\n",
    "ax[0].set_ylabel(r'$x_1$', fontsize=16)\n",
    "ax[0].grid(True)\n",
    "ax[0].legend(fontsize=16)\n",
    "\n",
    "ax[1].scatter(X[Y == -1, 0], X[Y == -1, 1], c='r', marker='o', s=100, label='Labeled class 0')\n",
    "ax[1].scatter(X[Y == 1, 0], X[Y == 1, 1], c='b', marker='^', s=100, label='Labeled class 1')\n",
    "\n",
    "ax[1].scatter(Xu[yu == -1, 0], Xu[yu == -1, 1], c='r', marker='s', s=150, label='Unlabeled class 0')\n",
    "ax[1].scatter(Xu[yu == 1, 0], Xu[yu == 1, 1], c='b', marker='v', s=150, label='Unlabeled class 1')\n",
    "\n",
    "ax[1].set_xlabel(r'$x_0$', fontsize=16)\n",
    "ax[1].grid(True)\n",
    "ax[1].legend(fontsize=16)\n",
    "\n",
    "plt.show()"
   ]
  },
  {
   "cell_type": "markdown",
   "metadata": {},
   "source": [
    "S<sup>3</sup>VM succeeded in finding the right label for most unlabeled points and it's also rather resistant to the noise induced by spurious points. Unfortunately, the problem is not linearly separable with the maximum accuracy and the final configuration tends to penalize the class 1 samples below a diagonal separation line (the dominant cluster is the stretched one in the upper-right quadrant). However, the result is promising and worth further investigations using different hyperparameters and optimization algorithms (COBYLA tends to remain stuck in local minima).\n",
    "<br>\n",
    "<h2>S<sup>3</sup>VM Summary</h2>\n",
    "<br>\n",
    "S<sup>3</sup>VM is a very powerful approach that offers high flexibility to adapt to different scenarios. It's particularly suitable when the structure of the unlabeled sample is partially (or even completely) unknown, and the main responsibility for labeling must be granted to the labeled samples.\n",
    "<br>\n",
    "<br>\n",
    "<h2>Transductive Support Vector Machines (TSVM)</h2>\n",
    "<br>\n",
    "TSVM are particularly suited when the unlabeled sample isn't very noisy, and the overall structure of the dataset is trustworthy. A common application of TSVM is classification on a dataset containing data points drawn from the same data-generating process (for example, medical photos collected using the same instrument) but only partially labeled due to, for example, economic reasons. Since all the images can be trusted, TSVM can exploit the structure of the dataset to achieve an accuracy larger than the one reachable by a supervised classifier.\n",
    "<br>\n",
    "<br>\n",
    "The idea is to keep the original objective with two sets of slack variables – the first for the labeled samples and the other for the unlabeled ones:\n",
    "<br>\n",
    "<br>\n",
    "<div>\n",
    "    <img src='images/tsvm_0.jpg'>\n",
    "</div>\n",
    "<br>\n",
    "<br>\n",
    "Since this is a transductive approach, we need to consider the unlabeled samples as variable-labeled ones (subject to the learning process), imposing a constraint similar to the supervised points. From a certain viewpoint, this is equivalent to introducing a prior belief about the final classification, strongly based on both cluster and smoothness assumptions.\n",
    "<br>\n",
    "<br>\n",
    "In other words, a TSVM can trust the structure of the dataset more than a S<sup>3</sup>VM and the data scientist has more flexibility in the choice of behavior. Different combinations of $C_L$ and $C_U$ yield results that can shift from complete trust being granted to the labeled points to the opposite condition. As explained in the introduction, the goal of transductive learning is only to classify the unlabeled samples, leveraging both the labeled ones and the structure of the dataset to do so. However, contrary to inductive methods, the constraints imposed by the labeled samples can be weakened in favor of a more geometrically coherent solution.\n",
    "<br>\n",
    "<br>\n",
    "As for the previous algorithm, we assume we have N labeled samples and M unlabeled ones; therefore, the conditions become as follows:\n",
    "<br>\n",
    "<br>\n",
    "<div>\n",
    "    <img src='images/tsvm_1.jpg'>\n",
    "</div>\n",
    "<br>\n",
    "<br>\n",
    "The first constraint is the classical SVM one and it wxiorks only on labeled samples. The second one uses the variable $y_{j}^{(u)}$ with the corresponding slack variables $\\xi_j$ to impose a similar condition on the unlabeled samples, while the third one is necessary to constrain the labels to be equal to $-1$ and $1$.\n",
    "<br>\n",
    "<br>\n",
    "Just like the semi-supervised SVMs, this algorithm is non-convex, and it's useful to try different methods to optimize it. Moreover, the author, in the aforementioned paper, showed how TSVM outperforms a standard supervised SVM when the test set (unlabeled) is large, and the training set (labeled) is relatively small. On the other hand, with large training sets and small test sets, a supervised SVM (or other algorithms) are always preferable, because they are faster and yield better accuracy.\n",
    "<br>\n",
    "<br>\n",
    "Just like the semi-supervised SVMs, this algorithm is non-convex, and it's useful to try different methods to optimize it. The TSVM outperforms a standard supervised SVM when the test set (unlabeled) is large, and the training set (labeled) is relatively small. On the other hand, with large training sets and small test sets, a supervised SVM (or other algorithms) are always preferable, because they are faster and yield better accuracy.\n",
    "<br>\n",
    "<h2>Example of TSVM</h2>\n",
    "<br>\n",
    "<b>Import Necessary Packages</b>"
   ]
  },
  {
   "cell_type": "code",
   "execution_count": 51,
   "metadata": {},
   "outputs": [],
   "source": [
    "import matplotlib.pyplot as plt\n",
    "import numpy as np\n",
    "import seaborn as sns\n",
    "from scipy.optimize import minimize\n",
    "\n",
    "from sklearn.datasets import make_classification\n",
    "from sklearn.svm import SVC"
   ]
  },
  {
   "cell_type": "markdown",
   "metadata": {},
   "source": [
    "<b>Set random seed for reproducibility</b>"
   ]
  },
  {
   "cell_type": "code",
   "execution_count": 31,
   "metadata": {},
   "outputs": [],
   "source": [
    "np.random.seed(1000)"
   ]
  },
  {
   "cell_type": "code",
   "execution_count": 39,
   "metadata": {},
   "outputs": [],
   "source": [
    "nb_samples = 200\n",
    "nb_unlabeled = 150"
   ]
  },
  {
   "cell_type": "markdown",
   "metadata": {},
   "source": [
    "In this case, we'll impose 150 unlabeled samples out of a total of 200 points.\n",
    "<br>\n",
    "<br>\n",
    "<b>Create Dataset</b>"
   ]
  },
  {
   "cell_type": "code",
   "execution_count": 42,
   "metadata": {},
   "outputs": [],
   "source": [
    "X, Y = make_classification(n_samples=nb_samples, n_features=2, n_redundant=0, random_state=1000)\n",
    "Y[Y==0] = -1\n",
    "Y[nb_samples - nb_unlabeled:nb_samples] = 0"
   ]
  },
  {
   "cell_type": "markdown",
   "metadata": {},
   "source": [
    "<b>Show the initial dataset</b>"
   ]
  },
  {
   "cell_type": "code",
   "execution_count": 43,
   "metadata": {},
   "outputs": [
    {
     "data": {
      "image/png": "[encoded data removed]",
      "text/plain": [
       "<Figure size 864x648 with 1 Axes>"
      ]
     },
     "metadata": {},
     "output_type": "display_data"
    }
   ],
   "source": [
    "sns.set()\n",
    "\n",
    "fig, ax = plt.subplots(figsize=(12, 9))\n",
    "\n",
    "ax.scatter(X[Y == -1, 0], X[Y == -1, 1], marker='o', s=100, label='Class 0')\n",
    "ax.scatter(X[Y == 1, 0], X[Y == 1, 1], marker='^', s=100, label='Class 1')\n",
    "ax.scatter(X[Y == 0, 0], X[Y == 0, 1], facecolor='none', edgecolor='#003200', marker='o', s=80, label='Unlabeled')\n",
    "\n",
    "ax.set_xlabel(r'$x_0$', fontsize=16)\n",
    "ax.set_ylabel(r'$x_1$', fontsize=16)\n",
    "ax.grid(True)\n",
    "ax.legend(fontsize=16)\n",
    "\n",
    "plt.show()"
   ]
  },
  {
   "cell_type": "markdown",
   "metadata": {},
   "source": [
    "We need to initialize the variables:"
   ]
  },
  {
   "cell_type": "code",
   "execution_count": 44,
   "metadata": {},
   "outputs": [],
   "source": [
    "w = np.random.uniform(-0.1, 0.1, size=X.shape[1])\n",
    "eta_labeled = np.random.uniform(0.0, 0.1, size=nb_samples - nb_unlabeled)\n",
    "eta_unlabeled = np.random.uniform(0.0, 0.1, size=nb_unlabeled)\n",
    "y_unlabeled = np.random.uniform(-1.0, 1.0, size=nb_unlabeled)\n",
    "b = np.random.uniform(-0.1, 0.1, size=1)\n",
    "C_labeled = 2.0\n",
    "C_unlabeled = 0.1\n",
    "theta0 = np.hstack((w, eta_labeled, eta_unlabeled, y_unlabeled, b))"
   ]
  },
  {
   "cell_type": "markdown",
   "metadata": {},
   "source": [
    "In this case, we also need to define the <code>y_unlabeled</code> vector for variable labels. It is suggested to use two C constants (<code>C_labeled</code> and <code>C_unlabeled</code>), in order to be able to weight the misclassification of labeled and unlabeled samples differently. We used a value of $2.0$ for <code>C_labeled</code> and $0.1$ for <code>C_unlabled</code>, because we want to accept the guidance of the labeled samples more than the structure of the unlabeled ones. In a further example, we'll compare the results with an opposite scenario.\n",
    "<br>\n",
    "<br>\n",
    "The objective function to optimize is as follows:"
   ]
  },
  {
   "cell_type": "code",
   "execution_count": 45,
   "metadata": {},
   "outputs": [],
   "source": [
    "def svm_target(theta, Xd, Yd):\n",
    "    wt = theta[0:2].reshape((Xd.shape[1], 1))\n",
    "    \n",
    "    s_eta_labeled = np.sum(theta[2:2 + nb_samples - nb_unlabeled])\n",
    "    s_eta_unlabeled = np.sum(theta[2 + nb_samples - nb_unlabeled:2 + nb_samples])\n",
    "    \n",
    "    return (C_labeled * s_eta_labeled) + (C_unlabeled * s_eta_unlabeled) + (0.5 * np.dot(wt.T, wt))"
   ]
  },
  {
   "cell_type": "markdown",
   "metadata": {},
   "source": [
    "While the labeled and unlabeled constraints are as follows:"
   ]
  },
  {
   "cell_type": "code",
   "execution_count": 46,
   "metadata": {},
   "outputs": [],
   "source": [
    "def labeled_constraint(theta, Xd, Yd, idx):\n",
    "    wt = theta[0:2].reshape((Xd.shape[1], 1))\n",
    "    \n",
    "    c = Yd[idx] * (np.dot(Xd[idx], wt) + theta[-1]) + \\\n",
    "    theta[2:2 + nb_samples - nb_unlabeled][idx] - 1.0\n",
    "    \n",
    "    return int((c >= 0)[0])"
   ]
  },
  {
   "cell_type": "code",
   "execution_count": 47,
   "metadata": {},
   "outputs": [],
   "source": [
    "def unlabeled_constraint(theta, Xd, idx):\n",
    "    wt = theta[0:2].reshape((Xd.shape[1], 1))\n",
    "    \n",
    "    c = theta[2 + nb_samples:2 + nb_samples + nb_unlabeled][idx - nb_samples + nb_unlabeled] * \\\n",
    "        (np.dot(Xd[idx], wt) + theta[-1]) + \\\n",
    "        theta[2 + nb_samples - nb_unlabeled:2 + nb_samples][idx - nb_samples + nb_unlabeled] - 1.0\n",
    "    \n",
    "    return int((c >= 0)[0])"
   ]
  },
  {
   "cell_type": "markdown",
   "metadata": {},
   "source": [
    "In this example, we want to employ the SLSQP algorithm to optimize the objective. This method computes the Jacobian (that is, the matrix containing the first partial derivatives) of all constraints (including the Boolean ones) and in NumPy 1.8+ the difference operator (<code>-</code>) between Boolean arrays has been deprecated and must be replaced with a logical <code>XOR</code>."
   ]
  },
  {
   "cell_type": "code",
   "execution_count": 48,
   "metadata": {},
   "outputs": [],
   "source": [
    "def eta_labeled_constraint(theta, idx):\n",
    "    return int(theta[2:2 + nb_samples - nb_unlabeled][idx] >= 0)"
   ]
  },
  {
   "cell_type": "code",
   "execution_count": 49,
   "metadata": {},
   "outputs": [],
   "source": [
    "def eta_unlabeled_constraint(theta, idx):\n",
    "    return int(theta[2 + nb_samples - nb_unlabeled:2 + nb_samples][idx - nb_samples + nb_unlabeled] >= 0)"
   ]
  },
  {
   "cell_type": "markdown",
   "metadata": {},
   "source": [
    "As in the previous example, we can create the constraint dictionary needed by SciPy:"
   ]
  },
  {
   "cell_type": "code",
   "execution_count": 50,
   "metadata": {},
   "outputs": [],
   "source": [
    "svm_constraints = []\n",
    "for i in range(nb_samples - nb_unlabeled):\n",
    "    svm_constraints.append({\n",
    "            'type': 'ineq',\n",
    "            'fun': labeled_constraint,\n",
    "            'args': (X, Y, i)\n",
    "        })\n",
    "    svm_constraints.append({\n",
    "            'type': 'ineq',\n",
    "            'fun': eta_labeled_constraint,\n",
    "            'args': (i,)\n",
    "        })\n",
    "    \n",
    "for i in range(nb_samples - nb_unlabeled, nb_samples):\n",
    "    svm_constraints.append({\n",
    "            'type': 'ineq',\n",
    "            'fun': unlabeled_constraint,\n",
    "            'args': (X, i)\n",
    "        })\n",
    "    svm_constraints.append({\n",
    "            'type': 'ineq',\n",
    "            'fun': eta_unlabeled_constraint,\n",
    "            'args': (i,)\n",
    "        })\n"
   ]
  },
  {
   "cell_type": "markdown",
   "metadata": {},
   "source": [
    "After having defined all the constraints, we can minimize the objective function using <code>method='SLSQP'</code> and the dictionary option <code>maxiter: 2000</code>. In general, convergence is achieved in a smaller number of iterations, but here we've made assumptions as though we're working in a more general scenario:"
   ]
  },
  {
   "cell_type": "code",
   "execution_count": null,
   "metadata": {},
   "outputs": [],
   "source": [
    "result = minimize(fun=svm_target, \n",
    "                  x0=theta0, \n",
    "                  constraints=svm_constraints, \n",
    "                  args=(X, Y), \n",
    "                  method='SLSQP', \n",
    "                  tol=0.0001, \n",
    "                  options={'maxiter': 2000})\n",
    "print(result['message'])\n"
   ]
  },
  {
   "cell_type": "markdown",
   "metadata": {},
   "source": [
    "Such a message confirms that <code>SLSQP</code> successfully found a minimum. I always check the output of the optimization function, to make sure that nothing went wrong during the procedure, and I recommend that you do too. In particular, when using methods like <code>COBYLA</code>, it's important that all constraints are differentiable. When some of them are not, the algorithm can stop working properly, because the approximations of the Jacobian become unreliable."
   ]
  },
  {
   "cell_type": "markdown",
   "metadata": {},
   "source": [
    "When the process is complete, we can compute the labels for the unlabeled samples and compare the plots:"
   ]
  },
  {
   "cell_type": "code",
   "execution_count": null,
   "metadata": {},
   "outputs": [],
   "source": [
    "theta_end = result['x']\n",
    "w = theta_end[0:2]\n",
    "b = theta_end[-1]\n",
    "Xu= X[nb_samples - nb_unlabeled:nb_samples]\n",
    "yu = -np.sign(np.dot(Xu, w) + b)"
   ]
  },
  {
   "cell_type": "markdown",
   "metadata": {},
   "source": [
    "The misclassification (based on the density distribution) is slightly lower than S<sup>3</sup>VM, because we have decided to trust the labeled samples more. Of course, it's possible to change the <code>C</code> values and the optimization method until the expected result has been reached. A good benchmark is provided by a supervised SVM, which can have better performance when the training set is huge enough (and when it represents the whole $P_{data}$ correctly). However, considering the clusters in the original dataset, we can conclude that TSVM achieved the expected result.\n",
    "<br>\n",
    "<br>\n",
    "In particular, if we consider the separation region, we can observe that a slight modification of the slope will force the class 0 dense blob located at $x_i \\in [-1.5, -0.5]$ to be, at least partially, assigned to the label $1$. The presence of separate slack variable sets, contrary to S<sup>3</sup>VM, has allowed the smoothness of the separation boundary to increase, with a final result similar to the ones achievable with non-linear methods."
   ]
  },
  {
   "cell_type": "markdown",
   "metadata": {},
   "source": [
    "<b>Which of the two results is correct?</b>\n",
    "<br>\n",
    "<br>\n",
    "As we are working in a semi-supervised scenario, to fully answer this question, it's necessary to have access to a larger labeled dataset, which is often impossible. My suggestion is to test several configurations (on sub-sampled datasets), before making the final decision. Whenever the labeled points must be trusted not only because they have been correctly pre-classified, but also because their position is geometrically strategical (for example, they are centroids of specific populations), the choice should be to pick a configuration similar to a standard SVM.\n",
    "<br>\n",
    "<br>\n",
    "On the contrary, when the structure of the dataset is definitely more representative of the underlying data-generating process, a TSVM can grant more responsibility to the unlabeled sample and exploit the labeled one to find a reasonable classification that is also compatible with the position of the dense regions. Finally, it's also important to remember that the smoothness assumption is based on the idea that abrupt changes are very rare.\n",
    "<br>\n",
    "<h2>TSVM Summary</h2>\n",
    "<br>\n",
    "TSVMs are powerful Semi-supervised models that are particularly suited to scenarios where the geometrical structure of the dataset is trustworthy and all the points are drawn from the same data-generating process. If these conditions are met, the algorithm can leverage the structure of the dataset to find the most appropriate labeling for the unlabeled sample. On the other hand, if the unlabeled sample is noisy, or its structure can derive from multiple processes, TSVM is not an appropriate choice and might yield very inaccurate results."
   ]
  },
  {
   "cell_type": "markdown",
   "metadata": {},
   "source": [
    "<h1>Summary</h1>\n",
    "<br>\n",
    "The algorithms discussed in this chapter are generally more powerful than those analyzed in the previous one, but they have specific differences that must always be considered. CPLE and S<sup>3</sup>VM are inductive methods.\n",
    "<br>\n",
    "<br>\n",
    "CPLE is an inductive, semi-supervised classification framework based on statistical learning concepts that can be adopted together with any supervised classifier. The main concept is to define a contrastive log-likelihood based on soft-labels that takes into account both labeled and unlabeled samples. The importance granted to the latter is conditioned to the maximization of the log-likelihood, and therefore the algorithm is less suited to tasks where fine control is needed.\n",
    "<br>\n",
    "<br>\n",
    "Another inductive classification approach is provided by the S<sup>3</sup>VM algorithm, which is an extension of the classical SVM approach, based on two extra optimization constraints to address the unlabeled samples. This method is relatively powerful, but it's non-convex and, therefore, very sensitive to the algorithms employed to minimize the objective function. In both the S<sup>3</sup>VM and CPLE cases, the level of trust granted to the unlabeled sample is always relatively low, and the main responsibility for the classification lies with the labeled sample.\n",
    "<br>\n",
    "<br>\n",
    "An alternative to S<sup>3</sup>VM is provided by TSVM, which tries to minimize the objective with a condition based on variable labels. The problem is, hence, divided into two parts: a supervised one, which is exactly the same as standard SVM, and a semi-supervised one, which has a similar structure but without fixed y labels. This problem is non-convex too and it's necessary to evaluate different optimization strategies to find the best trade-off between accuracy and computational complexity. TSVMs transductive approach relies heavily on the structure of the dataset; it's only a reasonably good choice when both labeled and unlabeled samples are known to be drawn from the same data-generating process."
   ]
  }
 ],
 "metadata": {
  "kernelspec": {
   "display_name": "Python 3",
   "language": "python",
   "name": "python3"
  },
  "language_info": {
   "codemirror_mode": {
    "name": "ipython",
    "version": 3
   },
   "file_extension": ".py",
   "mimetype": "text/x-python",
   "name": "python",
   "nbconvert_exporter": "python",
   "pygments_lexer": "ipython3",
   "version": "3.6.7"
  }
 },
 "nbformat": 4,
 "nbformat_minor": 2
}
